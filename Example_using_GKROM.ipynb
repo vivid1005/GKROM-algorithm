{
 "cells": [
  {
   "cell_type": "code",
   "execution_count": 21,
   "id": "bd9e8cb4",
   "metadata": {},
   "outputs": [],
   "source": [
    "%reset -f\n",
    "import pandas as pd\n",
    "import warnings\n",
    "warnings.filterwarnings(\"ignore\")\n",
    "\n",
    "######## import GKROM class from GKROM file ########\n",
    "%run \"xxx/GKROM.ipynb\" import GKROM"
   ]
  },
  {
   "cell_type": "code",
   "execution_count": 22,
   "id": "a12c0da8",
   "metadata": {
    "scrolled": false
   },
   "outputs": [
    {
     "name": "stdout",
     "output_type": "stream",
     "text": [
      "Column 1 completed...\n",
      "Column 2 completed...\n",
      "Column 3 completed...\n",
      "Core code running time: 1.04 seconds\n"
     ]
    },
    {
     "data": {
      "text/plain": [
       "array([[ 0.6579987 , -1.54736056, -0.61600827],\n",
       "       [ 0.98711656,  0.68167999,  0.1082831 ],\n",
       "       [-0.95745095, -1.75205151,  2.02117219],\n",
       "       ...,\n",
       "       [ 0.2867548 ,  0.02388143, -0.65230423],\n",
       "       [-0.74375929,  0.04557885,  0.48753245],\n",
       "       [-0.29996862,  1.1294226 ,  2.26941616]])"
      ]
     },
     "execution_count": 22,
     "metadata": {},
     "output_type": "execute_result"
    }
   ],
   "source": [
    "######## <Scenario 1>: Target sample generated From a multivariate normal distriution ########\n",
    "# target sample\n",
    "M = np.random.multivariate_normal(np.zeros(3), np.diag(np.ones(3)), size = 1000) \n",
    "\n",
    "### <Case1>: no save to file, match only skewness, fixed omega ###\n",
    "# match4 = False\n",
    "# result = GKROM(M, path = None, folder_name = None, simuSize = None, match4 = match4)\n",
    "\n",
    "### <Case2>: no save to file, match skewness and kurtosis ###\n",
    "match4 = True\n",
    "result = GKROM(M, path = None, folder_name = None, simuSize = None, match4 = match4)\n",
    "\n",
    "### compute simulated sample ###\n",
    "result.run()\n",
    "\n",
    "### pull the simulated sample ###\n",
    "result.output "
   ]
  },
  {
   "cell_type": "code",
   "execution_count": 13,
   "id": "f020c4cd",
   "metadata": {},
   "outputs": [
    {
     "data": {
      "text/plain": [
       "array([[-0.00582515, -0.00862573, -0.01382892],\n",
       "       [ 0.00084208,  0.00200499,  0.00967353],\n",
       "       [ 0.00594085,  0.01022693,  0.0208186 ],\n",
       "       ...,\n",
       "       [-0.00525285,  0.00500284,  0.01660831],\n",
       "       [ 0.00028906,  0.00347203,  0.00478849],\n",
       "       [-0.00480783, -0.00403467, -0.00535692]])"
      ]
     },
     "execution_count": 13,
     "metadata": {},
     "output_type": "execute_result"
    }
   ],
   "source": [
    "######## <Scenario 2>: Target sample came from a real dataset ########\n",
    "M = pd.read_csv(r'data.csv', header = None)\n",
    "M = np.array(M)\n",
    "\n",
    "### <Case3>: no file saved, match skewness, random omega ###\n",
    "match4 = False\n",
    "result = GKROM(M, path = None, folder_name = None, simuSize = None, match4 = match4, fixedOmega = False)\n",
    "\n",
    "### <Case4>: no file saved, match skewness and kurtosis, random omega ###\n",
    "### Warning: When the target is real data, matching the first four moments is very slow\n",
    "# match4 = True\n",
    "# result = GKROM(M, path = path, folder_name = None, simuSize = None, match4 = match4, fixedOmega = False)\n",
    "\n",
    "### compute simulated sample ###\n",
    "result.run()\n",
    "\n",
    "### pull the simulated sample ###\n",
    "result.output"
   ]
  },
  {
   "cell_type": "code",
   "execution_count": 20,
   "id": "07e231aa",
   "metadata": {},
   "outputs": [
    {
     "name": "stdout",
     "output_type": "stream",
     "text": [
      "[[-2.26707521e-07]\n",
      " [-2.26707449e-07]\n",
      " [-2.17627075e-07]]\n",
      "[[8.59347491e-07 5.99646340e-06 3.08308827e-06]\n",
      " [5.99646340e-06 8.53006319e-07 3.08942943e-06]\n",
      " [3.08308827e-06 3.08942943e-06 3.78300482e-06]]\n"
     ]
    }
   ],
   "source": [
    "######### check whether the simulated sample has the same skewness and/or kurtosis as the target #########\n",
    "print( result.Kolloskewness(result.stdized_output) - result.b)\n",
    "if match4:\n",
    "    print(result.Kollokurtosis(result.stdized_output) - result.K)"
   ]
  },
  {
   "cell_type": "code",
   "execution_count": null,
   "id": "41279301",
   "metadata": {},
   "outputs": [],
   "source": []
  }
 ],
 "metadata": {
  "kernelspec": {
   "display_name": "Python 3 (ipykernel)",
   "language": "python",
   "name": "python3"
  },
  "language_info": {
   "codemirror_mode": {
    "name": "ipython",
    "version": 3
   },
   "file_extension": ".py",
   "mimetype": "text/x-python",
   "name": "python",
   "nbconvert_exporter": "python",
   "pygments_lexer": "ipython3",
   "version": "3.10.10"
  }
 },
 "nbformat": 4,
 "nbformat_minor": 5
}
